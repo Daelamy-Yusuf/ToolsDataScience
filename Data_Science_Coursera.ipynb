{
  "nbformat": 4,
  "nbformat_minor": 0,
  "metadata": {
    "colab": {
      "provenance": []
    },
    "kernelspec": {
      "name": "python3",
      "display_name": "Python 3"
    },
    "language_info": {
      "name": "python"
    }
  },
  "cells": [
    {
      "cell_type": "markdown",
      "source": [
        "# Data Science Tools and Ecosystem"
      ],
      "metadata": {
        "id": "Mk99WojOkonY"
      }
    },
    {
      "cell_type": "markdown",
      "source": [
        "Data Science Tools and Ecosystem encompass a wide range of software, libraries, frameworks, and methodologies that are crucial for extracting insights and knowledge from data.\n"
      ],
      "metadata": {
        "id": "o7gtywCok5pT"
      }
    },
    {
      "cell_type": "markdown",
      "source": [
        "Some of the popular languages that Data Scientists use are:\n",
        "1.   Python\n",
        "2.   R\n",
        "3.   Julia\n",
        "4.   SQL\n",
        "5.   Scala\n",
        "6.   Java\n",
        "7.   C++\n",
        "8.   javascript\n",
        "9.   Php\n",
        "10.  Go\n",
        "11.  Ruby\n",
        "12.  Visual Basic"
      ],
      "metadata": {
        "id": "G2WAa8xJmF5N"
      }
    },
    {
      "cell_type": "markdown",
      "source": [
        "Some of the commonly used libraries used by Data Scientists include:\n",
        "1.   Pandas\n",
        "2.   Numpy\n",
        "3.   Matplotlib\n",
        "4.   Seaborn\n",
        "5.   Sckit-learn\n",
        "6.   Keras\n",
        "7.   TensorFlow\n",
        "8.   Pytorch\n",
        "9.   Apache Spark\n",
        "10.  Vegas\n",
        "11.  Big DL\n",
        "12.  Ggplot2"
      ],
      "metadata": {
        "id": "dV55oCpInSro"
      }
    },
    {
      "cell_type": "code",
      "source": [
        "from IPython.display import Markdown, display\n",
        "\n",
        "# Define the table contents\n",
        "table = \"| Tool | Description |\\n| --- | --- |\\n| NumPy | Numerical computing library |\\n| Pandas | Data manipulation and analysis library |\\n| Matplotlib | Data visualization library |\\n| Scikit-learn | Machine learning library |\\n| TensorFlow | Open-source machine learning platform |\\n| Keras | High-level neural networks API |\\n| PyTorch | Open-source machine learning library |\\n| Seaborn | Data visualization library |\\n| SciPy | Scientific computing library |\\n| NLTK | Natural language processing library |\\n| Statsmodels | Statistical modeling library |\"\n",
        "\n",
        "# Create the Markdown cell\n",
        "display(Markdown(table))"
      ],
      "metadata": {
        "colab": {
          "base_uri": "https://localhost:8080/",
          "height": 394
        },
        "id": "jeeioo0Rn4y3",
        "outputId": "87526750-f1bf-4b93-92fd-52db014db16a"
      },
      "execution_count": 1,
      "outputs": [
        {
          "output_type": "display_data",
          "data": {
            "text/plain": [
              "<IPython.core.display.Markdown object>"
            ],
            "text/markdown": "| Tool | Description |\n| --- | --- |\n| NumPy | Numerical computing library |\n| Pandas | Data manipulation and analysis library |\n| Matplotlib | Data visualization library |\n| Scikit-learn | Machine learning library |\n| TensorFlow | Open-source machine learning platform |\n| Keras | High-level neural networks API |\n| PyTorch | Open-source machine learning library |\n| Seaborn | Data visualization library |\n| SciPy | Scientific computing library |\n| NLTK | Natural language processing library |\n| Statsmodels | Statistical modeling library |"
          },
          "metadata": {}
        }
      ]
    },
    {
      "cell_type": "code",
      "source": [
        "from IPython.display import Markdown, display\n",
        "\n",
        "# Define the Markdown string with the H3 heading\n",
        "md = \"### Below are a few examples of evaluating arithmetic expressions in Python\\n\"\n",
        "\n",
        "# Add the Markdown string to the existing Markdown cell\n",
        "display(Markdown(md))\n"
      ],
      "metadata": {
        "colab": {
          "base_uri": "https://localhost:8080/",
          "height": 58
        },
        "id": "TmAUbKFzoU_y",
        "outputId": "b4483a7d-6737-40ec-b5cc-baf61e306375"
      },
      "execution_count": 2,
      "outputs": [
        {
          "output_type": "display_data",
          "data": {
            "text/plain": [
              "<IPython.core.display.Markdown object>"
            ],
            "text/markdown": "### Below are a few examples of evaluating arithmetic expressions in Python\n"
          },
          "metadata": {}
        }
      ]
    },
    {
      "cell_type": "code",
      "source": [
        "(3*3)+5"
      ],
      "metadata": {
        "colab": {
          "base_uri": "https://localhost:8080/"
        },
        "id": "LosxAhMMosDI",
        "outputId": "e984460b-3849-4df0-ee17-84558d329b67"
      },
      "execution_count": 3,
      "outputs": [
        {
          "output_type": "execute_result",
          "data": {
            "text/plain": [
              "14"
            ]
          },
          "metadata": {},
          "execution_count": 3
        }
      ]
    },
    {
      "cell_type": "markdown",
      "source": [
        "this a simple arithmetic expression to mutiply then add integers"
      ],
      "metadata": {
        "id": "KfFcFGU_oumT"
      }
    },
    {
      "cell_type": "code",
      "source": [
        "# Define the value in minutes\n",
        "minutes = 120\n",
        "\n",
        "# Convert minutes to hours\n",
        "hours = minutes / 60\n",
        "\n",
        "# Print the result\n",
        "print(f\"{minutes} minutes is equal to {hours} hours\")\n"
      ],
      "metadata": {
        "colab": {
          "base_uri": "https://localhost:8080/"
        },
        "id": "Tyc2DWzroxWc",
        "outputId": "06a87f59-7c7c-4799-8c7f-bcb4796d3eb3"
      },
      "execution_count": 4,
      "outputs": [
        {
          "output_type": "stream",
          "name": "stdout",
          "text": [
            "120 minutes is equal to 2.0 hours\n"
          ]
        }
      ]
    },
    {
      "cell_type": "markdown",
      "source": [
        "This will convert 200 minutes to hours by diving by 60"
      ],
      "metadata": {
        "id": "PAjhe15Bo_VQ"
      }
    },
    {
      "cell_type": "markdown",
      "source": [
        "## Adding Comments to Your Code\n",
        "\n",
        "When writing code, it's crucial to include comments to provide context, explanations, and documentation for your code. Comments are not executed by the computer but serve as notes for human readers, including yourself and other developers who might work with your code in the future.\n",
        "\n",
        "### Why Are Comments Important?\n",
        "\n",
        "Comments have several benefits:\n",
        "\n",
        "1. **Documentation:** Comments help explain the purpose of specific code sections or functions, making it easier for others to understand your code.\n",
        "2. **Debugging:** When you or others encounter issues in the code, well-written comments can pinpoint the problem and aid in troubleshooting.\n",
        "3. **Maintainability:** As your codebase grows, comments serve as a guide to maintaining and updating code efficiently.\n",
        "4. **Collaboration:** When working on team projects, comments facilitate collaboration by providing insights into code logic and design decisions."
      ],
      "metadata": {
        "id": "A6VzC1Fsp8Sl"
      }
    },
    {
      "cell_type": "markdown",
      "source": [
        "## Author(s) Ahmad Daelamy Yusuf"
      ],
      "metadata": {
        "id": "fYl665xnp-tU"
      }
    }
  ]
}